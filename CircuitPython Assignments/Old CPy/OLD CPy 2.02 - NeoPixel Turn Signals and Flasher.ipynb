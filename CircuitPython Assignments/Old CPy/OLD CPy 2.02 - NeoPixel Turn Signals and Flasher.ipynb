{
 "cells": [
  {
   "cell_type": "markdown",
   "metadata": {
    "deletable": false,
    "editable": false,
    "run_control": {
     "frozen": true
    }
   },
   "source": [
    "# CPy 2.02 - NeoPixels Turn Signals and Flasher\n",
    "___"
   ]
  },
  {
   "cell_type": "markdown",
   "metadata": {
    "deletable": false,
    "editable": false,
    "run_control": {
     "frozen": true
    }
   },
   "source": [
    "## Instructions\n",
    "\n",
    "Use commands from the `adafruit_circuitplayground` module to simulate turn signal lights and flashers on the CPB board using the built-in NeoPixels, slide switch, and push buttons. The slide switch will be used to change modes; left is turn signal mode and right is flasher mode.\n",
    "\n",
    "When in turn signal mode, pushing and holding the A button (and not button B) will blink the left half of the NeoPixels red (0 thru 4) on for 0.5 second and off for 0.5 second. If button B (and not button A) is pressed and held instead, then the right half of the NeoPixels (5 thru 10) will blink red at the same rate. When neither button is pressed or both buttons are pressed at the same time, all of the NeoPixels should be set to off. \n",
    "\n",
    "When the slide switch is in flasher mode, all of the NeoPixels should be flashed red at the same rate as before. Pressing buttons should have no effect when in flasher mode."
   ]
  },
  {
   "cell_type": "code",
   "execution_count": null,
   "metadata": {},
   "outputs": [],
   "source": [
    "# NeoPixel Turn Signals and Flasher\n",
    "\n",
    "# Your code goes here"
   ]
  }
 ],
 "metadata": {
  "kernelspec": {
   "display_name": "Python 3",
   "language": "python",
   "name": "python3"
  },
  "language_info": {
   "codemirror_mode": {
    "name": "ipython",
    "version": 3
   },
   "file_extension": ".py",
   "mimetype": "text/x-python",
   "name": "python",
   "nbconvert_exporter": "python",
   "pygments_lexer": "ipython3",
   "version": "3.7.5"
  },
  "varInspector": {
   "cols": {
    "lenName": 16,
    "lenType": 16,
    "lenVar": 40
   },
   "kernels_config": {
    "python": {
     "delete_cmd_postfix": "",
     "delete_cmd_prefix": "del ",
     "library": "var_list.py",
     "varRefreshCmd": "print(var_dic_list())"
    },
    "r": {
     "delete_cmd_postfix": ") ",
     "delete_cmd_prefix": "rm(",
     "library": "var_list.r",
     "varRefreshCmd": "cat(var_dic_list()) "
    }
   },
   "types_to_exclude": [
    "module",
    "function",
    "builtin_function_or_method",
    "instance",
    "_Feature"
   ],
   "window_display": false
  }
 },
 "nbformat": 4,
 "nbformat_minor": 2
}
