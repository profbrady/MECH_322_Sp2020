{
 "cells": [
  {
   "cell_type": "markdown",
   "metadata": {
    "deletable": false,
    "editable": false,
    "run_control": {
     "frozen": true
    }
   },
   "source": [
    "# CPy 1.02 - NeoPixel Patterns\n",
    "___"
   ]
  },
  {
   "cell_type": "markdown",
   "metadata": {
    "deletable": false,
    "editable": false,
    "run_control": {
     "frozen": true
    }
   },
   "source": [
    "## Instructions\n",
    "\n",
    "Use commands from the `adafruit_circuitplayground` modules to control the lighting of all 10 NeoPixels. Define each of the following functions before starting your main loop. Inside the main loop call each of the functions in order with `on_time` and `off_time` values of 0.5 and 0.25 for each. Use `cp.pixels.auto_write = False` so you have to explicitly control the showing of changes with `cp.pixels.show()`. Use any color of your choosing for the NeoPixels and use the same color for all functions.\n",
    "\n",
    "**Functions**\n",
    "- `one_at_a_time(on_time, off_time)` - Turn on one NeoPixel at a time starting with 0 and ending with 9. After turning on a NeoPixel, keep it on for the `on_time` then turn it back off for the `off_time`. Use a `for` loop.\n",
    "\n",
    "\n",
    "- `one_after_another(on_time, off_time)` - Turn on one NeoPixel at a time starting with 0 and ending with 9 until all 10 are on. Wait for the `on_time` before turning on the next NeoPixel. Once all NeoPixels are on, turn them off one at a time starting with 9 and ending with 0. Delay by the `off_time` between turning off the NeoPixels. Use separate `for` loops for turning on and turning off.\n",
    "\n",
    "\n",
    "- `ping_pong(on_time, off_time)` - Similar to `one_at_a_time(delay)` except after turning on/off NeoPixels from 0 to 9, turn them on/off from 8 to 1. There should only ever be one NeoPixel on at a time. Use two separate `for` loops.\n",
    "\n",
    "\n",
    "- `marquee(on_time, off_time)` - Start by turning on NeoPixels 0 and 5 for the `on_time`. Then turn off 0 and 5 for the `off_time` and turn on and off 1 and 6 in the same way. Continue incrementing until the pair 4 and 9 have been turned on and off. Use a single `for` loop and indexing to accomplish this task.\n",
    "\n",
    "\n",
    "- `random_lights(on_time, off_time)` - This function has been defined already. It will randomly turn on and off 10 NeoPixels, keeping them on for the `on_time` and off for the `off_time`."
   ]
  },
  {
   "cell_type": "code",
   "execution_count": null,
   "metadata": {},
   "outputs": [],
   "source": [
    "# NeoPixel Patterns\n",
    "\n",
    "import time\n",
    "import random\n",
    "from adafruit_circuitplayground import cp\n",
    "\n",
    "COLOR = (0, 255, 0)  # Change this to any color you wish\n",
    "OFF = (0, 0, 0)\n",
    "\n",
    "cp.pixels.auto_write = False\n",
    "cp.pixels.brightness = 0.25\n",
    "\n",
    "# complete each of the function definitions and delete `pass`\n",
    "def one_at_a_time(on_time, off_time):\n",
    "    pass\n",
    "\n",
    "def one_after_another(on_time, off_time):\n",
    "    pass\n",
    "\n",
    "def ping_pong(on_time, off_time):\n",
    "    pass\n",
    "\n",
    "def marquee(on_time, off_time):\n",
    "    pass\n",
    "\n",
    "def random_lights(on_time, off_time):\n",
    "    for i in range(10):\n",
    "        cp.pixels[random.choice(range(10))] = COLOR\n",
    "        cp.pixels.show()\n",
    "        time.sleep(on_time)\n",
    "        cp.pixels.fill(OFF)\n",
    "        cp.pixels.show()\n",
    "        time.sleep(off_time)\n",
    "\n",
    "while True:\n",
    "    #one_at_a_time(0.5, 0.25)\n",
    "    #one_after_another(0.5, 0.25)\n",
    "    #ping_pong(0.5, 0.25)\n",
    "    #marquee(0.5, 0.25)\n",
    "    random_lights(0.5, 0.25)\n",
    "\n",
    "\n"
   ]
  }
 ],
 "metadata": {
  "kernelspec": {
   "display_name": "Python 3",
   "language": "python",
   "name": "python3"
  },
  "language_info": {
   "codemirror_mode": {
    "name": "ipython",
    "version": 3
   },
   "file_extension": ".py",
   "mimetype": "text/x-python",
   "name": "python",
   "nbconvert_exporter": "python",
   "pygments_lexer": "ipython3",
   "version": "3.7.5"
  },
  "varInspector": {
   "cols": {
    "lenName": 16,
    "lenType": 16,
    "lenVar": 40
   },
   "kernels_config": {
    "python": {
     "delete_cmd_postfix": "",
     "delete_cmd_prefix": "del ",
     "library": "var_list.py",
     "varRefreshCmd": "print(var_dic_list())"
    },
    "r": {
     "delete_cmd_postfix": ") ",
     "delete_cmd_prefix": "rm(",
     "library": "var_list.r",
     "varRefreshCmd": "cat(var_dic_list()) "
    }
   },
   "types_to_exclude": [
    "module",
    "function",
    "builtin_function_or_method",
    "instance",
    "_Feature"
   ],
   "window_display": false
  }
 },
 "nbformat": 4,
 "nbformat_minor": 2
}
