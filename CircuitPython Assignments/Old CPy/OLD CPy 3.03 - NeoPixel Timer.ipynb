{
 "cells": [
  {
   "cell_type": "markdown",
   "metadata": {
    "deletable": false,
    "editable": false,
    "run_control": {
     "frozen": true
    }
   },
   "source": [
    "# CPy 3.03 - NeoPixel Timer\n",
    "___"
   ]
  },
  {
   "cell_type": "markdown",
   "metadata": {
    "deletable": false,
    "editable": false,
    "run_control": {
     "frozen": true
    }
   },
   "source": [
    "## Instructions\n",
    "\n",
    "Use commands from the `adafruit_circuitplayground` module to create a countdown timer on the CPB board that uses the built-in push buttons and slide switch to set the time and start/stop the timer. The NeoPixels will be used to display the timer setting and the countdown in seconds.\n",
    "\n",
    "Place the slide switch is in the left position to set the timer. The timer can be set in 10-second increments up to a maximum of 100 seconds by pressing the A and B buttons. Pressing A will increase the timer value and pressing B will decrease it. Use NeoPixels to indicate the timer setting as it is set. For example, when set to 30 seconds, the third NeoPixel (`cp.pixels[2]`) should be illuminated. Use a brightness of 0.15 and a color of blue for NeoPixels.\n",
    "\n",
    "Placing the slide switch in the right position puts it in run mode. In this mode, pressing the A button should start the timer, but only if a timer value has been set. When the timer expires, play a tone (you choose the frequency) on the internal speaker and flash all of the NeoPixels red at a 0.2-second on, 0.2-second off rate. Pressing the B button should turn off the lights and stop the tone as well as reset the timer. The B button should also stop the timer and reset it if pressed before the timer has expired. Switching from run to setting mode should also stop the timer as well as turn off the NeoPixels.\n",
    "\n",
    "If a timer value has been set and the slide switch is set to run mode, illuminate all 10 NeoPixels as soon as button A is pressed. The NeoPixels should be green if the timer setting is for 20 seconds or more and red if only 10 seconds. Then turn one off the NeoPixels one at a time at one second intervals starting with index position 9. Do the same for each 10 second interval of the countdown except for the last 10 seconds, where the NeoPixel color should be changed to red to express that the countdown is almost done. Using nested `for` loops might be a good choice for performing the countdown task. If you do use nested `for` loops, make sure you check the status of button B and slide switch inside the loop(s) so you can `break` if either of them change states.\n",
    "\n",
    "This script will be more efficient and easier to create if you use a *state variable* to keep track of whether the timer has finished counting down. For example, setting `timer_complete = False` before the main loop and anytime the timer is reset. Only set it to `True` after the countdown has completed. This can then be used as a trigger for starting the buzzer and flashing lights. Also, maybe create a function that can be called to reset the timer value to zero, change timer complete state variable to `False`, turn off all of the NeoPixels, and stop the tone. "
   ]
  },
  {
   "cell_type": "code",
   "execution_count": 7,
   "metadata": {
    "deletable": false,
    "editable": false,
    "run_control": {
     "frozen": true
    }
   },
   "outputs": [
    {
     "data": {
      "text/html": [
       "\n",
       "<div align=\"left\">\n",
       "<video width=\"60%\" controls>\n",
       "      <source src=\"CPB_Timer.mp4\" type=\"video/mp4\">\n",
       "</video></div>"
      ],
      "text/plain": [
       "<IPython.core.display.HTML object>"
      ]
     },
     "execution_count": 7,
     "metadata": {},
     "output_type": "execute_result"
    }
   ],
   "source": [
    "from IPython.display import HTML\n",
    "\n",
    "HTML(\"\"\"\n",
    "<div align=\"left\">\n",
    "<video width=\"60%\" controls>\n",
    "      <source src=\"CPB_Timer.mp4\" type=\"video/mp4\">\n",
    "</video></div>\"\"\")"
   ]
  },
  {
   "cell_type": "markdown",
   "metadata": {
    "deletable": false,
    "editable": false,
    "run_control": {
     "frozen": true
    }
   },
   "source": [
    "*Video of sample script running on a CPB at 0.25 second rate instead of 1 second rate*"
   ]
  },
  {
   "cell_type": "code",
   "execution_count": null,
   "metadata": {},
   "outputs": [],
   "source": [
    "# NeoPixel Timer\n",
    "\n",
    "from adafruit_circuitplayground import cp\n",
    "import time\n",
    "\n",
    "# set a state variable for timer completion to `False`\n",
    "# and initially set timer setting variable to 0\n",
    "\n",
    "\n",
    "def reset_timer():\n",
    "    # Call this function any time to reset timer info\n",
    "    # <-- Turn off NeoPixels\n",
    "    # <-- Stop tone\n",
    "    global # put names of timer completion and timer value variables here\n",
    "    # <-- reset timer value to 0\n",
    "    # <-- set timer completion state variable to `False`\n",
    "    \n",
    "\n",
    "# create tuples for your colors (include the OFF color)\n",
    "\n",
    "# set NeoPixel brightness and turn off all NeoPixels\n",
    "\n",
    "\n",
    "while True:\n",
    "    # if switch is `True` (left)\n",
    "    if cp.switch:\n",
    "        # timer complete variable is `True` perform reset\n",
    "        # and sleep 0.1 to 0.2 seconds\n",
    "        \n",
    "        # otherwise, check if buttons are pressed and set the timer\n",
    "        # good idea to sleep for 0.2 seconds after performing tasks\n",
    "        # to give time for fingers to get off buttons\n",
    "\n",
    "        \n",
    "        \n",
    "    # if switch is `False` (right)\n",
    "    if not cp.switch:\n",
    "        # check if button A is pressed and timer complete is set to `False`\n",
    "        # if so, perform looping to display NeoPixel countdown\n",
    "        # check if button B or switch become `True` in the loops, then\n",
    "        # reset and break if they are.\n",
    "        # set timer complete to `True` if loops finish without breaking\n",
    "        \n",
    "        \n",
    "        # check if timer complete variable is `True`\n",
    "        # if so, blink the lights and play the buzzer\n",
    "        # what the slide switch and button B states so you\n",
    "        # can call the reset function if they are\n",
    "        \n",
    "        \n",
    "        # check the state of button B to reset the timer\n",
    "        \n",
    "        "
   ]
  }
 ],
 "metadata": {
  "kernelspec": {
   "display_name": "Python 3",
   "language": "python",
   "name": "python3"
  },
  "language_info": {
   "codemirror_mode": {
    "name": "ipython",
    "version": 3
   },
   "file_extension": ".py",
   "mimetype": "text/x-python",
   "name": "python",
   "nbconvert_exporter": "python",
   "pygments_lexer": "ipython3",
   "version": "3.7.5"
  },
  "varInspector": {
   "cols": {
    "lenName": 16,
    "lenType": 16,
    "lenVar": 40
   },
   "kernels_config": {
    "python": {
     "delete_cmd_postfix": "",
     "delete_cmd_prefix": "del ",
     "library": "var_list.py",
     "varRefreshCmd": "print(var_dic_list())"
    },
    "r": {
     "delete_cmd_postfix": ") ",
     "delete_cmd_prefix": "rm(",
     "library": "var_list.r",
     "varRefreshCmd": "cat(var_dic_list()) "
    }
   },
   "types_to_exclude": [
    "module",
    "function",
    "builtin_function_or_method",
    "instance",
    "_Feature"
   ],
   "window_display": false
  }
 },
 "nbformat": 4,
 "nbformat_minor": 2
}
