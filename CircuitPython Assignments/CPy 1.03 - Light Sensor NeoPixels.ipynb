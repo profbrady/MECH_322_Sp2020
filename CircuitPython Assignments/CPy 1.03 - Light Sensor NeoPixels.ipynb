{
 "cells": [
  {
   "cell_type": "markdown",
   "metadata": {
    "deletable": false,
    "editable": false,
    "run_control": {
     "frozen": true
    }
   },
   "source": [
    "# CPy 1.03 - Light Sensor NeoPixels\n",
    "___"
   ]
  },
  {
   "cell_type": "markdown",
   "metadata": {
    "deletable": false,
    "editable": false
   },
   "source": [
    "## Instructions\n",
    "\n",
    "Create a script named `cpy_1_03.py` using the Circuit Playground device simulator extension in Microsoft Visual Studio Code. You will submit the script file and a screen recording that demonstrates you testing the script on the simulator to the assignment in Canvas.\n",
    "\n",
    "Use commands from the `adafruit_circuitplayground` module to control the lighting of all 10 NeoPixels based upon the light sensor reading. When the light level is at its lowest, the NeoPixel brightness should be set to 1.0 (full brightness). When the light level is at its highest, the NeoPixel brightness should be set to 0 (off).\n",
    "\n",
    "Click on the light icon under the emulator to access a slider for simulating the light level. Be sure to note the lowest and highest possible values so you can perform the math required to turn the light level value into a brightness value.\n",
    "\n",
    "Use `cp.pixels.auto_write = True` so you do not have to explicitly control the showing of changes with `cp.pixels.show()`. Use a NeoPixel color of white, `(255, 255, 255)`. Create and use a function for light level mapping. Assign the mapped value to a variable named `bright` and use the variable when setting the NeoPixel brightness. Place a slight delay of 0.1 seconds after the brightness setting and before the next light level reading.\n",
    "\n",
    "Use the provided `cpy_1_03.py` file as a framework. Be sure to change the comment at the top of the script to use your name.\n"
   ]
  }
 ],
 "metadata": {
  "kernelspec": {
   "display_name": "Python 3",
   "language": "python",
   "name": "python3"
  },
  "language_info": {
   "codemirror_mode": {
    "name": "ipython",
    "version": 3
   },
   "file_extension": ".py",
   "mimetype": "text/x-python",
   "name": "python",
   "nbconvert_exporter": "python",
   "pygments_lexer": "ipython3",
   "version": "3.7.5"
  },
  "varInspector": {
   "cols": {
    "lenName": 16,
    "lenType": 16,
    "lenVar": 40
   },
   "kernels_config": {
    "python": {
     "delete_cmd_postfix": "",
     "delete_cmd_prefix": "del ",
     "library": "var_list.py",
     "varRefreshCmd": "print(var_dic_list())"
    },
    "r": {
     "delete_cmd_postfix": ") ",
     "delete_cmd_prefix": "rm(",
     "library": "var_list.r",
     "varRefreshCmd": "cat(var_dic_list()) "
    }
   },
   "types_to_exclude": [
    "module",
    "function",
    "builtin_function_or_method",
    "instance",
    "_Feature"
   ],
   "window_display": false
  }
 },
 "nbformat": 4,
 "nbformat_minor": 2
}
