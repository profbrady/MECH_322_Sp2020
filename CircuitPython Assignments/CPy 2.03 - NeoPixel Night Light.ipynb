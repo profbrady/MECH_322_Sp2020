{
 "cells": [
  {
   "cell_type": "markdown",
   "metadata": {
    "deletable": false,
    "editable": false,
    "run_control": {
     "frozen": true
    }
   },
   "source": [
    "# CPy 2.03 - NeoPixel Night Light\n",
    "___"
   ]
  },
  {
   "cell_type": "markdown",
   "metadata": {
    "deletable": false,
    "editable": false,
    "run_control": {
     "frozen": true
    }
   },
   "source": [
    "## Instructions\n",
    "\n",
    "Create a script named `cpy_2_03.py` using the Circuit Playground device simulator extension in Microsoft Visual Studio Code. You will submit the script file and a screen recording that demonstrates you testing the script on the simulator to the assignment in Canvas.\n",
    "\n",
    "Use commands from the `adafruit_circuitplayground` module to turn your CPX/CPB board into a night light using the built-in NeoPixels, slide switch, push buttons, and capacitive touch pads.\n",
    "\n",
    "When the slide switch is in the `False` position the CPX will simply act like a flashlight with the brightness intensity set to 100%. In this mode all of the NeoPixels should be set to white `(255, 255, 255)`.\n",
    "\n",
    "When the slide switch is in the `True` position the CPX will act like a night light of sorts. The brightness of the NeoPixels should be reduced to 50% in this mode. Buttons A and B and the capacitive touch pads perform the following tasks in this mode:\n",
    "\n",
    "- Button A pressed and lights on: immediately turn **off** all of the NeoPixels\n",
    "\n",
    "- Button B pressed and lights off: immediately turn **on** all of the NeoPixels (50% brightness)\n",
    "\n",
    "- Capacitive touch pads A4, A5, A6, or A7 touched and lights on: turn off the 10 NeoPixels one at a time with a 0.25 second delay between turning off each NeoPixel. Use a `for` loop to accomplish this task.\n",
    "\n",
    "- Capacitive touch pads A1, A2, or A3 touched and lights on: lower the brightness of the 10 NeoPixels by 5% (0.05) every 0.25 seconds until they are completely off. Use a `for` loop to accomplish this task.\n",
    "\n",
    "The provided code in `cpy_2_03` uses a variable to keep track of when the lights are on or off (`lights_on`). It is initially set to `False` and the NeoPixels are turned off. Any time the lights are turned off, this variable should be set to `False`. Any time the lights are turned on, it should be set to `True`. Only monitor for button A being pressed and the capacitive touch pads being touched if the lights are on. Only check for button B being pressed when the lights are off.\n",
    "\n",
    "Use the provided `cpy_2_03.py` file as a framework. Be sure to change the comment at the top of the script to use your name."
   ]
  }
 ],
 "metadata": {
  "kernelspec": {
   "display_name": "Python 3",
   "language": "python",
   "name": "python3"
  },
  "language_info": {
   "codemirror_mode": {
    "name": "ipython",
    "version": 3
   },
   "file_extension": ".py",
   "mimetype": "text/x-python",
   "name": "python",
   "nbconvert_exporter": "python",
   "pygments_lexer": "ipython3",
   "version": "3.7.5"
  },
  "varInspector": {
   "cols": {
    "lenName": 16,
    "lenType": 16,
    "lenVar": 40
   },
   "kernels_config": {
    "python": {
     "delete_cmd_postfix": "",
     "delete_cmd_prefix": "del ",
     "library": "var_list.py",
     "varRefreshCmd": "print(var_dic_list())"
    },
    "r": {
     "delete_cmd_postfix": ") ",
     "delete_cmd_prefix": "rm(",
     "library": "var_list.r",
     "varRefreshCmd": "cat(var_dic_list()) "
    }
   },
   "types_to_exclude": [
    "module",
    "function",
    "builtin_function_or_method",
    "instance",
    "_Feature"
   ],
   "window_display": false
  }
 },
 "nbformat": 4,
 "nbformat_minor": 2
}
