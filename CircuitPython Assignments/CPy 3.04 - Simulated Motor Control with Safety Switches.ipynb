{
 "cells": [
  {
   "cell_type": "markdown",
   "metadata": {
    "deletable": false,
    "editable": false,
    "run_control": {
     "frozen": true
    }
   },
   "source": [
    "# CPy 3.04 - Simulated Motor Control with Safety Switches\n",
    "___"
   ]
  },
  {
   "cell_type": "markdown",
   "metadata": {
    "deletable": false,
    "editable": false,
    "run_control": {
     "frozen": true
    }
   },
   "source": [
    "## Instructions\n",
    "\n",
    "Create a script named `cpy_3_04.py` using the Circuit Playground device simulator extension in Microsoft Visual Studio Code. You will submit the script file and a screen recording that demonstrates you testing the script on the simulator to the assignment in Canvas.\n",
    "\n",
    "Use commands from the`adafruit_circuitplayground` module to simulate controlling the speed of a motor using the the temperature sensor. This script has similarities to CPy 2.04, except instead of using the push buttons to set speed increments they are used as safety switches and the temperature sensor input is used to control the motor speed.\n",
    "\n",
    "Reference your code from CPy 2.04 for setting the `motor_speed` and `motor_duty_cycle` variables and turning on NeoPixels. However, in this script your input will be the temperature sensor instead of the light sensor. In fact, you will not need to scale the temperature sensor value, just make sure that any value of zero or less sets `motor_speed` to zero and any value of 100 or higher sets `motor_speed` to 100. \n",
    "\n",
    "In your main loop continuously read the state of the two built-in push buttons A and B. These buttons will act as the safety switches, keeping the motor from running unless both of them are pressed. If both of the buttons are pressed, then set `motor_speed` as described above. Scale the `motor_speed` value of 0 to 100 to a value of 0 to 65535 to set `motor_duty_cycle`. Also, scale the `motor_speed` 0 to 100 value to a value of 0 to 10 to illuminate a number of the NeoPixels. Use green for the NeoPixel color and 1.0 for the brightness when the \"motor\" is running.\n",
    "\n",
    "When neither or only one of the buttons are pressed, stop the \"motor\" and illuminate all of the NeoPixels red with a brightness of 0.25.\n",
    "\n",
    "If the built-in slide switch is `True`, allow motor operations to work as described. But if the slide switch is `False`, the motor should not be able to do anything regardless of what buttons are pressed. Instead, blink the built-in red LED for 0.5 seconds off and 0.5 seconds on if the slide switch is set to the `False` position. As soon as the slide switch is moved to the `True` position the red LED should stop blinking.\n",
    "\n",
    "Use the provided `cpy_3_04.py` file as a framework. Be sure to change the comment at the top of the script to use your name."
   ]
  }
 ],
 "metadata": {
  "kernelspec": {
   "display_name": "Python 3",
   "language": "python",
   "name": "python3"
  },
  "language_info": {
   "codemirror_mode": {
    "name": "ipython",
    "version": 3
   },
   "file_extension": ".py",
   "mimetype": "text/x-python",
   "name": "python",
   "nbconvert_exporter": "python",
   "pygments_lexer": "ipython3",
   "version": "3.7.5"
  },
  "varInspector": {
   "cols": {
    "lenName": 16,
    "lenType": 16,
    "lenVar": 40
   },
   "kernels_config": {
    "python": {
     "delete_cmd_postfix": "",
     "delete_cmd_prefix": "del ",
     "library": "var_list.py",
     "varRefreshCmd": "print(var_dic_list())"
    },
    "r": {
     "delete_cmd_postfix": ") ",
     "delete_cmd_prefix": "rm(",
     "library": "var_list.r",
     "varRefreshCmd": "cat(var_dic_list()) "
    }
   },
   "types_to_exclude": [
    "module",
    "function",
    "builtin_function_or_method",
    "instance",
    "_Feature"
   ],
   "window_display": false
  }
 },
 "nbformat": 4,
 "nbformat_minor": 2
}
