{
 "cells": [
  {
   "cell_type": "markdown",
   "metadata": {
    "deletable": false,
    "editable": false,
    "run_control": {
     "frozen": true
    }
   },
   "source": [
    "# CPy 1.04 - Temp Sensor with REPL Output\n",
    "___"
   ]
  },
  {
   "cell_type": "markdown",
   "metadata": {
    "deletable": false,
    "editable": false,
    "run_control": {
     "frozen": true
    }
   },
   "source": [
    "## Instructions\n",
    "\n",
    "Create a script named `cpy_1_04.py` using the Circuit Playground device simulator extension in Microsoft Visual Studio Code. You will submit the script file and a screen recording that demonstrates you testing the script on the simulator to the assignment in Canvas.\n",
    "\n",
    "Use commands from the `adafruit_circuitplayground` module to read the value from the built-in temperature sensor and print the requested output. The `adafruit_circuitplayground` module includes a command to directly read the temperature of the built-in sensor in Celsius. Within your main loop you will need to read the value and assign it to an appropriately named variable. Use $^\\circ F =\\, ^\\circ C\\frac{9}{5} + 32$ to convert to Fahrenheit and assign the converted value to an appropriately named variable. In your main loop read the temperature and assign the both variables every 2 seconds and print a statement like the following using string formatting.\n",
    "\n",
    "```\n",
    "Temp: XX.X C (XX.X F)    Setting Temp: XX.X C (XX.X F)\n",
    "    The sensor temperature is <hotter than>/<cooler than>/<the same as> the setting\n",
    "```\n",
    "Before your main loop, use the appropriate function from `random` (don't forget to import it first) to create a random temperature setting between 16 and 24 Celsius (inclusive) to use in your formatted output.\n",
    "\n",
    "Round all temperature results and the setting values to one decimal place before comparing if hotter, cooler, or the same and printing the statement. The second line of the statement should only show one of the three options. The `XX.X` values should be the calculated temperatures. Include line return at the beginning of the first line of your results print statements.\n",
    "\n",
    "Click on the thermometer icon under the emulator image to change the temperature reading in order to test your script. \n",
    "\n",
    "Use the provided `cpy_1_04.py` file as a framework. Be sure to change the comment at the top of the script to use your name."
   ]
  }
 ],
 "metadata": {
  "kernelspec": {
   "display_name": "Python 3",
   "language": "python",
   "name": "python3"
  },
  "language_info": {
   "codemirror_mode": {
    "name": "ipython",
    "version": 3
   },
   "file_extension": ".py",
   "mimetype": "text/x-python",
   "name": "python",
   "nbconvert_exporter": "python",
   "pygments_lexer": "ipython3",
   "version": "3.7.5"
  },
  "varInspector": {
   "cols": {
    "lenName": 16,
    "lenType": 16,
    "lenVar": 40
   },
   "kernels_config": {
    "python": {
     "delete_cmd_postfix": "",
     "delete_cmd_prefix": "del ",
     "library": "var_list.py",
     "varRefreshCmd": "print(var_dic_list())"
    },
    "r": {
     "delete_cmd_postfix": ") ",
     "delete_cmd_prefix": "rm(",
     "library": "var_list.r",
     "varRefreshCmd": "cat(var_dic_list()) "
    }
   },
   "types_to_exclude": [
    "module",
    "function",
    "builtin_function_or_method",
    "instance",
    "_Feature"
   ],
   "window_display": false
  }
 },
 "nbformat": 4,
 "nbformat_minor": 2
}
