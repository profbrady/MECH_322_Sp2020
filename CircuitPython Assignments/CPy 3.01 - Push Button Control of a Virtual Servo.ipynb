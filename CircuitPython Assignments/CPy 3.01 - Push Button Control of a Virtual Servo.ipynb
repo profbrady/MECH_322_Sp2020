{
 "cells": [
  {
   "cell_type": "markdown",
   "metadata": {
    "deletable": false,
    "editable": false,
    "run_control": {
     "frozen": true
    }
   },
   "source": [
    "# CPy 3.01 - Push Button Control of a Virtual Servo\n",
    "___"
   ]
  },
  {
   "cell_type": "markdown",
   "metadata": {
    "deletable": false,
    "editable": false,
    "run_control": {
     "frozen": true
    }
   },
   "source": [
    "## Instructions\n",
    "\n",
    "Create a script named `cpy_3_01.py` using the Circuit Playground device simulator extension in Microsoft Visual Studio Code. You will submit the script file and a screen recording that demonstrates you testing the script on the simulator to the assignment in Canvas.\n",
    "\n",
    "CircuitPython and the CPB can be used to control the position of simple \"toy\" servos. If we could actually connect our virtual CPX to a servo we could be using the `pulseio`, `adafruit_motor`, and `adafruit_circuitPlayground` modules to perform this task. Since we can't connect a servo or use the `adafruit_motor` and `pulseio` modules, we will control a \"virtual\" servo by turning on/off specific NeoPixels.\n",
    "\n",
    "In your script define a function named `servo_angle(angle)` that turns on specific NeoPixels based on the argument `angle` (assuming `angle` is a multiple of 5). Our virtual servo has travel limits of 0 to 90 degrees. If the value of `angle` is less than or equal to 0, the function should turn on NeoPixel 0. If it is greater than or equal to 90, the function should turn on Neopixel 9. For angles between 0 and 90, the function should turn on the single Neopixel number that matches the tens digit of the angle when the angle is divisible by zero. For example, if the angle is 40, then NeoPixel 4 gets illuminated. When the angle is not divisible by 10 (i.e. ends in 5), the NeoPixel number associated with the tens digit will be turned on plus the next lower NeoPixel number. For example, if the angle is 75, then NeoPixels 7 and 6 should be illuminated.\n",
    "\n",
    "Each time the script starts (before your main loop), create and set a variable to keep track of the current servo angle, set it to the 0 and print it using a formatted string like `Servo angle set to 0 degrees`. Call your `servo_angle(angle)` function to turn on the appropriate Neopixel(s).\n",
    "\n",
    "In you main loop continuously check the values of the two built-in buttons (A and B). If just button A is pressed, decrease the servo angle tracking variable by 5 degrees. If just button B is pressed increase the servo angle tracking variable by 5 degrees. If both A and B are pressed simultaneously, reset the angle back to 0 degrees. When A or B are pressed, check the current angle before changing the angle to see if the servo should still be able to move. If the angle is already 0 when A is pressed or 90 when B is pressed, then do not change the angle. After setting the servo tracking variable, call your `servo_angle(angle)` function if the NeoPixels need to be updated.\n",
    "\n",
    "After setting an angle print a statement like `Servo angle set to X degrees`. Also, after setting an angle use the `time.sleep()` function to delay for 0.2 seconds in order to give the user time to take their finger off the button. \n",
    "\n",
    "Print statements and setting NeoPixels should only occur just after a button is pressed, not on a continuous basis.\n",
    "\n",
    "Use the provided `cpy_3_01.py` file as a framework. Be sure to change the comment at the top of the script to use your name."
   ]
  }
 ],
 "metadata": {
  "kernelspec": {
   "display_name": "Python 3",
   "language": "python",
   "name": "python3"
  },
  "language_info": {
   "codemirror_mode": {
    "name": "ipython",
    "version": 3
   },
   "file_extension": ".py",
   "mimetype": "text/x-python",
   "name": "python",
   "nbconvert_exporter": "python",
   "pygments_lexer": "ipython3",
   "version": "3.7.5"
  },
  "varInspector": {
   "cols": {
    "lenName": 16,
    "lenType": 16,
    "lenVar": 40
   },
   "kernels_config": {
    "python": {
     "delete_cmd_postfix": "",
     "delete_cmd_prefix": "del ",
     "library": "var_list.py",
     "varRefreshCmd": "print(var_dic_list())"
    },
    "r": {
     "delete_cmd_postfix": ") ",
     "delete_cmd_prefix": "rm(",
     "library": "var_list.r",
     "varRefreshCmd": "cat(var_dic_list()) "
    }
   },
   "types_to_exclude": [
    "module",
    "function",
    "builtin_function_or_method",
    "instance",
    "_Feature"
   ],
   "window_display": false
  }
 },
 "nbformat": 4,
 "nbformat_minor": 2
}
