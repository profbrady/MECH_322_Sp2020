{
 "cells": [
  {
   "cell_type": "markdown",
   "metadata": {
    "deletable": false,
    "editable": false,
    "run_control": {
     "frozen": true
    }
   },
   "source": [
    "# CPy 3.05 - Buttons and Messages\n",
    "___"
   ]
  },
  {
   "cell_type": "markdown",
   "metadata": {
    "deletable": false,
    "editable": false,
    "run_control": {
     "frozen": true
    }
   },
   "source": [
    "## Instructions\n",
    "\n",
    "Create a script named `cpy_3_05.py` using the Circuit Playground device simulator extension in Microsoft Visual Studio Code. You will submit the script file and a screen recording that demonstrates you testing the script on the simulator to the assignment in Canvas.\n",
    "\n",
    "Use commands from the `adafrtuit_circuitPlayground` module to print text messages (instead of sending them to a monochrome LCD display) and light NeoPixels based upon input from the built-in buttons and slider switch.\n",
    "\n",
    "Before your main loop, create and set the following state tracking variables to the values shown:\n",
    "\n",
    "```\n",
    "mode = None\n",
    "ready = False\n",
    "running = False\n",
    "```\n",
    "\n",
    "The slide switch should select between two modes; the `False` position is \"SYSTEM OFF\" and the `True` position is \"SYSTEM ON\". Before the main loop print the message associated with the current mode. When in the main loop, any time the mode changes (and only when the mode changes) print the appropriate message. This means that since `mode` starts as `None` that either `SYSTEM OFF` or `SYSTEM ON` should print the first time through the main loop.\n",
    "\n",
    "When in \"SYSTEM OFF\" mode set all of the NeoPixels to red with a 0.2 brightness. Nothing should happen if either or both push buttons are pressed while in this mode. Both `ready` and `running` should be set to `False` as well.\n",
    "\n",
    "If switched to \"SYSTEM ON\" mode and `ready` is `False`, display the text `PRESS \"A\" TO WARM UP` and set the NeoPixels to 0.5 brightness. In this mode your script should monitor the state of push buttons A and B. If button A is pressed while `ready` is `False`, the NeoPixels should turn from red to blue one at a time starting with 0 and ending with 9 at a rate of one light per 0.5 second. The message `WARMING UP` should be printed as soon as button A is pressed. After the warm up has completed (when the last NeoPixel has turned green) the message `PRESS \"B\" TO RUN` should be printed. At this point `ready` should be changed to `True`. If button A were pushed again at this time nothing should happen.\n",
    "\n",
    "If button B is pressed while `ready` is `False`, nothing should happen. If B is pressed while `ready` is `True` and `running` is `False`, set all of the NeoPixels to green with a brightness of 1.0 and print the message `RUNNING: 0 sec` and then set `running` to `True`.\n",
    "\n",
    "As long as `running` is `True` and the switch is in the `True` position, print `RUNNING: XXX sec` where `XXX` is the the elapsed time in integer seconds since button B was pressed. However, only print the message when the elapsed time in integer seconds is divisible by 10 and make sure it only prints each time once. Do not use `time.sleep()` to keep track of the elapsed time, use `time.monotonic()` and variables. If either button A or B is pushed at this time nothing should happen. The only ways to reset once \"running\" are with the slide switch or reseting the board. Make sure that sliding the switch to the `False` position resets to \"SYSTEM OFF\" mode.\n",
    "\n",
    "Use the provided `cpy_3_05.py` file as a framework. Be sure to change the comment at the top of the script to use your name."
   ]
  }
 ],
 "metadata": {
  "kernelspec": {
   "display_name": "Python 3",
   "language": "python",
   "name": "python3"
  },
  "language_info": {
   "codemirror_mode": {
    "name": "ipython",
    "version": 3
   },
   "file_extension": ".py",
   "mimetype": "text/x-python",
   "name": "python",
   "nbconvert_exporter": "python",
   "pygments_lexer": "ipython3",
   "version": "3.7.5"
  },
  "varInspector": {
   "cols": {
    "lenName": 16,
    "lenType": 16,
    "lenVar": 40
   },
   "kernels_config": {
    "python": {
     "delete_cmd_postfix": "",
     "delete_cmd_prefix": "del ",
     "library": "var_list.py",
     "varRefreshCmd": "print(var_dic_list())"
    },
    "r": {
     "delete_cmd_postfix": ") ",
     "delete_cmd_prefix": "rm(",
     "library": "var_list.r",
     "varRefreshCmd": "cat(var_dic_list()) "
    }
   },
   "types_to_exclude": [
    "module",
    "function",
    "builtin_function_or_method",
    "instance",
    "_Feature"
   ],
   "window_display": false
  }
 },
 "nbformat": 4,
 "nbformat_minor": 2
}
