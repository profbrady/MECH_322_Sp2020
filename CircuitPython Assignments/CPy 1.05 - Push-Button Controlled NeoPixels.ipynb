{
 "cells": [
  {
   "cell_type": "markdown",
   "metadata": {
    "deletable": false,
    "editable": false,
    "run_control": {
     "frozen": true
    }
   },
   "source": [
    "# CPy 1.05 - Push-Button Controlled NeoPixels\n",
    "___"
   ]
  },
  {
   "cell_type": "markdown",
   "metadata": {
    "deletable": false,
    "editable": false,
    "run_control": {
     "frozen": true
    }
   },
   "source": [
    "## Instructions\n",
    "\n",
    "Create a script named `cpy_1_05.py` using the Circuit Playground device simulator extension in Microsoft Visual Studio Code. You will submit the script file and a screen recording that demonstrates you testing the script on the simulator to the assignment in Canvas.\n",
    "\n",
    "Use commands from the `adafruit_circuitplayground` module to control the number of NeoPixels that are turned on by pressing the push buttons. Use the color of your choice, but make all NeoPixels the same color. Use a brightness of 1.\n",
    "\n",
    "When the script starts, all of the NeoPixels should be turned off and the statement `NeoPixels = 0` should be printed. In your main loop, monitor the two push buttons. If button A is pressed when all NeoPixels are off, the first NeoPixel should be turned on. Every time button A is pressed, another NeoPixel should be illuminated until they are all on. Once they are all on, button A should no longer have any affect on the NeoPixels. \n",
    "\n",
    "Button B should reduce the number of NeoPixels that are illuminated starting with the highest number. If none are illuminated, pressing button B should have no affect. Each time the number of NeoPixels that are illuminated changes print the number of lit up NeoPixels using the same statement format as previously described.\n",
    "\n",
    "Delay for 0.2 seconds after any NeoPixel change so that only one NeoPixel changes each time a button is tapped.\n",
    "\n",
    "Use the provided `cpy_1_05.py` file as a framework. Be sure to change the comment at the top of the script to use your name."
   ]
  }
 ],
 "metadata": {
  "kernelspec": {
   "display_name": "Python 3",
   "language": "python",
   "name": "python3"
  },
  "language_info": {
   "codemirror_mode": {
    "name": "ipython",
    "version": 3
   },
   "file_extension": ".py",
   "mimetype": "text/x-python",
   "name": "python",
   "nbconvert_exporter": "python",
   "pygments_lexer": "ipython3",
   "version": "3.7.5"
  },
  "varInspector": {
   "cols": {
    "lenName": 16,
    "lenType": 16,
    "lenVar": 40
   },
   "kernels_config": {
    "python": {
     "delete_cmd_postfix": "",
     "delete_cmd_prefix": "del ",
     "library": "var_list.py",
     "varRefreshCmd": "print(var_dic_list())"
    },
    "r": {
     "delete_cmd_postfix": ") ",
     "delete_cmd_prefix": "rm(",
     "library": "var_list.r",
     "varRefreshCmd": "cat(var_dic_list()) "
    }
   },
   "types_to_exclude": [
    "module",
    "function",
    "builtin_function_or_method",
    "instance",
    "_Feature"
   ],
   "window_display": false
  }
 },
 "nbformat": 4,
 "nbformat_minor": 2
}
