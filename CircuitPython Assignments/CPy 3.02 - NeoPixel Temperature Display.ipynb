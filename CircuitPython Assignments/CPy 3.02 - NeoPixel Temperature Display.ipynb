{
 "cells": [
  {
   "cell_type": "markdown",
   "metadata": {
    "deletable": false,
    "editable": false,
    "run_control": {
     "frozen": true
    }
   },
   "source": [
    "# CPy 3.02 - NeoPixel Temperature Display\n",
    "___"
   ]
  },
  {
   "cell_type": "markdown",
   "metadata": {
    "deletable": false,
    "editable": false,
    "run_control": {
     "frozen": true
    }
   },
   "source": [
    "## Instructions\n",
    "\n",
    "Create a script named `cpy_3_02.py` using the Circuit Playground device simulator extension in Microsoft Visual Studio Code. You will submit the script file and a screen recording that demonstrates you testing the script on the simulator to the assignment in Canvas.\n",
    "\n",
    "Use commands from the `adafruit_circuitplayground` module to create a temperature display on the CPB board that uses NeoPixels to display the temperature as sensed from the built-in temperature sensor. Use built-in push buttons and slide switch to change the temperature display.\n",
    "\n",
    "Continuously read the temperature from the built-in temperature sensor. Just before your main loop and then every 5 seconds inside your main loop print the temperature in Celsius and Fahrenheit with units (both rounded to one decimal place) on the same line using a formatted string. \n",
    "\n",
    "Every 2.5 seconds (without using `time.sleep()`) light up the number of NeoPixels in blue that correspond to the temperature's \"tens\" place. For the next 2.5 seconds (again, no `time.sleep()`) light up the number of NeoPixels corresponding to the \"ones\" place (rounded to the whole number) in green. When the slide switch is in the `False` position use Fahrenheit for the NeoPixel display and turn on the built-in red LED. When the slide switch is in the `True` position use Celsius and turn off the built-in red LED. For example, if the slide switch is `True` and the temperature is 71 Fahrenheit, then NeoPixels 0 to 7 will be blue and NeoPixels 0 to 1 will be green. If the temperature was 50 Fahrenheit, then NeoPixels 0 to 5 will be blue and just NeoPixel 0 would be green.\n",
    "\n",
    "Make it so the built-in buttons temporarily override the cycling NeoPixel display. If just button A is pressed and held display the \"tens\" value. If just button B is pressed and held, display the \"ones\" value. When neither or both are pressed, the cycling between \"tens\" and \"ones\" should continue.\n",
    "\n",
    "As an example, if the temperature is 73.2 Fahrenheit and the slide switch is in the `False` position, then the built-in red LED will be lit. Every 2.5 seconds the NeoPixels will cycle between NeoPixels 0 to 7 being illuminated blue and NeoPixels 0 to 3  being illuminated green.\n",
    "\n",
    "Use the provided `cpy_3_02.py` file as a framework. Be sure to change the comment at the top of the script to use your name."
   ]
  },
  {
   "cell_type": "code",
   "execution_count": null,
   "metadata": {},
   "outputs": [],
   "source": []
  }
 ],
 "metadata": {
  "kernelspec": {
   "display_name": "Python 3",
   "language": "python",
   "name": "python3"
  },
  "language_info": {
   "codemirror_mode": {
    "name": "ipython",
    "version": 3
   },
   "file_extension": ".py",
   "mimetype": "text/x-python",
   "name": "python",
   "nbconvert_exporter": "python",
   "pygments_lexer": "ipython3",
   "version": "3.7.5"
  },
  "varInspector": {
   "cols": {
    "lenName": 16,
    "lenType": 16,
    "lenVar": 40
   },
   "kernels_config": {
    "python": {
     "delete_cmd_postfix": "",
     "delete_cmd_prefix": "del ",
     "library": "var_list.py",
     "varRefreshCmd": "print(var_dic_list())"
    },
    "r": {
     "delete_cmd_postfix": ") ",
     "delete_cmd_prefix": "rm(",
     "library": "var_list.r",
     "varRefreshCmd": "cat(var_dic_list()) "
    }
   },
   "types_to_exclude": [
    "module",
    "function",
    "builtin_function_or_method",
    "instance",
    "_Feature"
   ],
   "window_display": false
  }
 },
 "nbformat": 4,
 "nbformat_minor": 2
}
