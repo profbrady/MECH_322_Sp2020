{
 "cells": [
  {
   "cell_type": "markdown",
   "metadata": {},
   "source": [
    "# CPy 2.04 - Simulated Motor Control with Buttons\n",
    "___"
   ]
  },
  {
   "cell_type": "markdown",
   "metadata": {},
   "source": [
    "## Instructions\n",
    "\n",
    "Create a script named `cpy_2_04.py` using the Circuit Playground device simulator extension in Microsoft Visual Studio Code. You will submit the script file and a screen recording that demonstrates you testing the script on the simulator to the assignment in Canvas.\n",
    "\n",
    "Use commands from the`adafruit_circuitplayground` module to simulate controlling the speed of a motor using the built-in push buttons, the light sensor, and the built-in slide switch.\n",
    "\n",
    "In your main loop continuously watch the status of the slide switch. If the slide switch is in the `False` position, use the value from the light sensor virtual input to set a speed value between 0 and 100 in steps of 10. The light sensor virtual input uses a range of 0 to 255 in steps of 1, so you will need to scale the value and perform some rounding to get the correct range and step size. Assign the converted value to a variable with the name `motor_speed`. Scale the `motor_speed` value from 0 to 100 to 0 to 65535 and assign the scaled value to a variable named `motor_duty_cycle`. Add a 0.25 second delay after printing the values (see printing instructions below).\n",
    "\n",
    "If slide switch is in the `True` position, use the built-in buttons A and B to decrease or increase (respectively) the `motor_speed` variable in increments of 10 between 0 and 100. Scale the `motor_speed` value from 0 to 100 to 0 to 65535 and assign the scaled value to the variable named `motor_duty_cycle`. Add a 0.25 second delay after setting `motor_speed` and `motor_duty_cycle` and printing to allow for the button to be released. Your code should not allow the speed to be set below 0 or above 100% (a duty cycle of 65535).\n",
    "\n",
    "Each time the motor speed is changed (regardless of the method used), print both `motor_speed` and `motor_duty_cycle` to the using string formatting. Your output should look something like this; `Motor speed = XX% (duty cycle = XXXXX)`. The motor speed percentage and duty cycle should both be displayed to the nearest integer.\n",
    "\n",
    "Regardless of the slide switch position, turn on the number of NeoPixels that correspond to the `motor_speed` variable. Recall that there are 10 NeoPixels. Therefore, a `motor_speed` of 40 should result in the first 4 NeoPixels being illuminated. When the \"motor\" is off, there should be zero NeoPixels lit up. Start your script with a speed of zero.\n",
    "\n",
    "Use the provided `cpy_2_04.py` file as a framework. Be sure to change the comment at the top of the script to use your name."
   ]
  }
 ],
 "metadata": {
  "kernelspec": {
   "display_name": "Python 3",
   "language": "python",
   "name": "python3"
  },
  "language_info": {
   "codemirror_mode": {
    "name": "ipython",
    "version": 3
   },
   "file_extension": ".py",
   "mimetype": "text/x-python",
   "name": "python",
   "nbconvert_exporter": "python",
   "pygments_lexer": "ipython3",
   "version": "3.7.5"
  },
  "varInspector": {
   "cols": {
    "lenName": 16,
    "lenType": 16,
    "lenVar": 40
   },
   "kernels_config": {
    "python": {
     "delete_cmd_postfix": "",
     "delete_cmd_prefix": "del ",
     "library": "var_list.py",
     "varRefreshCmd": "print(var_dic_list())"
    },
    "r": {
     "delete_cmd_postfix": ") ",
     "delete_cmd_prefix": "rm(",
     "library": "var_list.r",
     "varRefreshCmd": "cat(var_dic_list()) "
    }
   },
   "types_to_exclude": [
    "module",
    "function",
    "builtin_function_or_method",
    "instance",
    "_Feature"
   ],
   "window_display": false
  }
 },
 "nbformat": 4,
 "nbformat_minor": 2
}
