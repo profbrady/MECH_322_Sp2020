{
 "cells": [
  {
   "cell_type": "markdown",
   "metadata": {
    "deletable": false,
    "editable": false,
    "run_control": {
     "frozen": true
    }
   },
   "source": [
    "# CPy 2.05 - Hello World with Monotonic Timer\n",
    "___"
   ]
  },
  {
   "cell_type": "markdown",
   "metadata": {
    "deletable": false,
    "editable": false,
    "run_control": {
     "frozen": true
    }
   },
   "source": [
    "## Instructions\n",
    "\n",
    "Create a script named `cpy_2_05.py` using the Circuit Playground device simulator extension in Microsoft Visual Studio Code. You will submit the script file and a screen recording that demonstrates you testing the script on the simulator to the assignment in Canvas.\n",
    "\n",
    "Print \"Hello Mr. Brady from Pat Smith\" when the script starts using a single print statement, except replace \"Pat Smith\" with your name and split the print statement into two lines after \"Mr. Brady.\"\n",
    "\n",
    "Create the variable `start_time` and assign the integer value of the processor's clock time to it just before starting the main `while True:` loop (look into the `time` module commands to know how to get the processor's clock time). Within the loop, calculate `elapsed_time` by subtracting `start_time` from the processor's clock time and converting it to an integer. Light up one NeoPixel based on the value of the ones place in `elapsed_time`, i.e. light up NeoPixel 5 if `elapsed_time` is 35.\n",
    "\n",
    "Whenever the ones digit of `elapsed_time` changes from 9 to 0, print `xx seconds have elapsed` where `xx` is the elapsed time rounded to the nearest second. For example, when the elapsed time changes from 29 to 30, you will print `30 seconds have passed`.\n",
    "\n",
    "Use the provided `cpy_2_05.py` file as a framework. Be sure to change the comment at the top of the script to use your name."
   ]
  }
 ],
 "metadata": {
  "kernelspec": {
   "display_name": "Python 3",
   "language": "python",
   "name": "python3"
  },
  "language_info": {
   "codemirror_mode": {
    "name": "ipython",
    "version": 3
   },
   "file_extension": ".py",
   "mimetype": "text/x-python",
   "name": "python",
   "nbconvert_exporter": "python",
   "pygments_lexer": "ipython3",
   "version": "3.7.5"
  },
  "varInspector": {
   "cols": {
    "lenName": 16,
    "lenType": 16,
    "lenVar": 40
   },
   "kernels_config": {
    "python": {
     "delete_cmd_postfix": "",
     "delete_cmd_prefix": "del ",
     "library": "var_list.py",
     "varRefreshCmd": "print(var_dic_list())"
    },
    "r": {
     "delete_cmd_postfix": ") ",
     "delete_cmd_prefix": "rm(",
     "library": "var_list.r",
     "varRefreshCmd": "cat(var_dic_list()) "
    }
   },
   "types_to_exclude": [
    "module",
    "function",
    "builtin_function_or_method",
    "instance",
    "_Feature"
   ],
   "window_display": false
  }
 },
 "nbformat": 4,
 "nbformat_minor": 2
}
