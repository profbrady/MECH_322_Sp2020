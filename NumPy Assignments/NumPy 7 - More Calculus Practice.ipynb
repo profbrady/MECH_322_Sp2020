{
 "cells": [
  {
   "cell_type": "markdown",
   "metadata": {
    "deletable": false,
    "editable": false,
    "run_control": {
     "frozen": true
    }
   },
   "source": [
    "# NumPy 7 - More Calculus Practice\n",
    "___"
   ]
  },
  {
   "cell_type": "code",
   "execution_count": null,
   "metadata": {},
   "outputs": [],
   "source": [
    "name = \"Your name here\"\n",
    "print(\"Name:\", name.upper())"
   ]
  },
  {
   "cell_type": "markdown",
   "metadata": {
    "deletable": false,
    "editable": false,
    "run_control": {
     "frozen": true
    }
   },
   "source": [
    "**Execute the following code cell to import all necessary modules for this notebook**"
   ]
  },
  {
   "cell_type": "code",
   "execution_count": null,
   "metadata": {
    "deletable": false,
    "editable": false
   },
   "outputs": [],
   "source": [
    "import numpy as np\n",
    "from scipy import integrate, optimize\n",
    "from scipy.misc import derivative\n",
    "from matplotlib import pyplot as plt\n",
    "from numpy.polynomial import polynomial as P"
   ]
  },
  {
   "cell_type": "markdown",
   "metadata": {
    "deletable": false,
    "editable": false,
    "run_control": {
     "frozen": true
    }
   },
   "source": [
    "**Exercise 1**\n",
    "\n",
    "Plot the polynomial $y = 0.008x^4 - 1.8x^2 - 5.4x +54$ over the domain $-14 \\leq x \\leq 16$.\n",
    "\n",
    "First create your polynomial (be watchful of missing coefficients and using the correct order). Then create an array `x` of 100 values. Use `P.polyval()` with `x` and your polynomial to calculate $y$-values for plotting and then plot the polynomial."
   ]
  },
  {
   "cell_type": "code",
   "execution_count": null,
   "metadata": {},
   "outputs": [],
   "source": []
  },
  {
   "cell_type": "code",
   "execution_count": null,
   "metadata": {},
   "outputs": [],
   "source": []
  },
  {
   "cell_type": "code",
   "execution_count": null,
   "metadata": {},
   "outputs": [],
   "source": []
  },
  {
   "cell_type": "markdown",
   "metadata": {
    "deletable": false,
    "editable": false,
    "run_control": {
     "frozen": true
    }
   },
   "source": [
    "**Exercise 2**\n",
    "\n",
    "Use *NumPy* polynomial functions to carry out the following multiplication of two polynomials:\n",
    "\n",
    "$\\displaystyle (-x^3 + 5x -1)(x^4 + 2x^3 -16x +5)$"
   ]
  },
  {
   "cell_type": "code",
   "execution_count": null,
   "metadata": {},
   "outputs": [],
   "source": []
  },
  {
   "cell_type": "code",
   "execution_count": null,
   "metadata": {},
   "outputs": [],
   "source": []
  },
  {
   "cell_type": "markdown",
   "metadata": {
    "deletable": false,
    "editable": false,
    "run_control": {
     "frozen": true
    }
   },
   "source": [
    "**Exercise 3**\n",
    "\n",
    "The boiling temperature of water $T_B$ at various altitudes $h$ is given in the following table. Determine a linear equation in the form $T_B = mh+b$ (think $y = mx + b$) that best fits the data. Use the equation for calculating the boiling temperature at an elevation of $5000\\text{ m}$ by using `P.polyval()`. Create a plot of the points (as red dots) and the best fit equation (as a blue line).\n",
    "\n",
    "$\\qquad\\displaystyle \\begin{array}{cccccccc}\n",
    "h\\text{ (m)} & 0 & 600 & 1500 & 2300 & 3000 & 6100 & 7900 \\\\\n",
    "T_B\\,(^{\\circ}\\text{C}) & 100 & 98.8 & 95.1 & 92.2 & 90 & 81.2 & 75.6\n",
    "\\end{array}$\n",
    "\n",
    "*Hint*: $h$ in this problem is your $x$-axis variable"
   ]
  },
  {
   "cell_type": "code",
   "execution_count": null,
   "metadata": {},
   "outputs": [],
   "source": []
  },
  {
   "cell_type": "code",
   "execution_count": null,
   "metadata": {},
   "outputs": [],
   "source": []
  },
  {
   "cell_type": "markdown",
   "metadata": {
    "deletable": false,
    "editable": false,
    "run_control": {
     "frozen": true
    }
   },
   "source": [
    "**Exercise 4**\n",
    "\n",
    "The following points are given:\n",
    "\n",
    "$\\qquad\\displaystyle \\begin{array}{ccccccccccc}\n",
    "x & 1 & 2.2 & 3.7 & 6.4 & 9 & 11.5 & 14.2 & 17.8 & 20.5 & 23.2 \\\\\n",
    "y & 12 & 9 & 6.6 & 5.5 & 7.2 & 9.2 & 9.6 & 8.5 & 6.5 & 2.2\n",
    "\\end{array}$\n",
    "\n",
    "1. Fit the data with a first-order polynomial\n",
    "2. Fit the data with a second-order polynomial\n",
    "3. Fit the data with a third-order polynomial\n",
    "4. Fit the date with a fifth-order polynomial\n",
    "5. Plot the points as black triangles\n",
    "6. Plot all of the fitted curves on the same plot as the points but with different colors and line types for each and include a legend"
   ]
  },
  {
   "cell_type": "code",
   "execution_count": null,
   "metadata": {},
   "outputs": [],
   "source": []
  },
  {
   "cell_type": "code",
   "execution_count": null,
   "metadata": {},
   "outputs": [],
   "source": []
  },
  {
   "cell_type": "markdown",
   "metadata": {
    "deletable": false,
    "editable": false,
    "run_control": {
     "frozen": true
    }
   },
   "source": [
    "**Exercise 5**\n",
    "\n",
    "Determine the two roots (zeros) of the equation $x^3 - 5x^{2.5} + e^{0.9x} + 4(x+1) = -2$. First create an anonymous function and plot the function over the range $0.5 \\leq x \\leq 6$ with $100$ points. Use the plot to select your guesses for finding the roots (i.e. solving the equation)."
   ]
  },
  {
   "cell_type": "code",
   "execution_count": null,
   "metadata": {},
   "outputs": [],
   "source": []
  },
  {
   "cell_type": "code",
   "execution_count": null,
   "metadata": {},
   "outputs": [],
   "source": []
  },
  {
   "cell_type": "markdown",
   "metadata": {
    "deletable": false,
    "editable": false,
    "run_control": {
     "frozen": true
    }
   },
   "source": [
    "**Exercise 6**\n",
    "\n",
    "Solve for the roots (zeros) of the function $f(x) = xe^{-x} -0.2$. First create an anonymous function and plot the function over the range $0 \\leq x \\leq 8$ with $100$ points. Use the plot to select your guesses for the roots.\n",
    "\n",
    "Find the locations of any local minimums and maximums over the same interval and the values of the minimums and maximums. There may be only one minimum and/or maximum value. Use the plot to decide."
   ]
  },
  {
   "cell_type": "code",
   "execution_count": null,
   "metadata": {},
   "outputs": [],
   "source": []
  },
  {
   "cell_type": "code",
   "execution_count": null,
   "metadata": {},
   "outputs": [],
   "source": []
  },
  {
   "cell_type": "markdown",
   "metadata": {
    "deletable": false,
    "editable": false,
    "run_control": {
     "frozen": true
    }
   },
   "source": [
    "**Exercise 7**\n",
    "\n",
    "A horizontal beam of length $L = 108\\text{ in.}$ is attached to the wall with a pin at the left end (point $A$). A  cable of length $L_C = 68\\text{ in.}$ is attached to the wall directly above point $A$ (at point $C$) and to the beam distance $d$ to the right of $A$ (at point $D$). A load $W=250\\text{ lb}$ is attached to the beam at the right end (at point $B$). The tension in the cable $T$ is given by:\n",
    "\n",
    "$\\qquad\\displaystyle T = \\frac{W\\,L\\,L_C}{d\\sqrt{L_C^2 - d^2}}$\n",
    "\n",
    "Make a plot of $T$ versus $d$ (where $d$ is the $x$-axis) for $5 \\leq d \\leq 65$. Determine the distance $d$ where the tension in the cable is the smallest (local minimum) and the value of the $T$ at that point."
   ]
  },
  {
   "cell_type": "markdown",
   "metadata": {},
   "source": [
    "![Beam for Exercise 7](Beam.png)"
   ]
  },
  {
   "cell_type": "code",
   "execution_count": null,
   "metadata": {},
   "outputs": [],
   "source": []
  },
  {
   "cell_type": "code",
   "execution_count": null,
   "metadata": {},
   "outputs": [],
   "source": []
  },
  {
   "cell_type": "markdown",
   "metadata": {
    "deletable": false,
    "editable": false,
    "run_control": {
     "frozen": true
    }
   },
   "source": [
    "**Exercise 8**\n",
    "\n",
    "Calculate the following definite integrals:\n",
    "\n",
    "1. $\\displaystyle \\int_1^8{\\frac{e^x}{x^3}}dx\\\\[10mm]$\n",
    "\n",
    "2. $\\displaystyle \\int_0^9{\\left(0.5 + \\frac{\\cos(1.2x)}{(x+2)^2} \\right)}dx\\\\[10mm]$\n",
    "\n",
    "3. $\\displaystyle \\int_0^8{(xe^{-x^{0.8}} + 0.2)}dx$"
   ]
  },
  {
   "cell_type": "code",
   "execution_count": null,
   "metadata": {},
   "outputs": [],
   "source": []
  },
  {
   "cell_type": "code",
   "execution_count": null,
   "metadata": {},
   "outputs": [],
   "source": []
  },
  {
   "cell_type": "code",
   "execution_count": null,
   "metadata": {},
   "outputs": [],
   "source": []
  },
  {
   "cell_type": "markdown",
   "metadata": {
    "deletable": false,
    "editable": false,
    "run_control": {
     "frozen": true
    }
   },
   "source": [
    "**Exercise 9**\n",
    "\n",
    "Find the values of the following requested derivatives:\n",
    "\n",
    "1. First and second derivatives of $(1-4x)^3$ with respect to $x$ at both $x=0 \\text{ and } 1$ using $dx=1\\times10^{-6}\\\\[2mm]$.\n",
    "\n",
    "2. First and second derivatives of $e^{x^4}$ with respect to $x$ at both $x=0.5 \\text{ and } 1.0$ using $dx=1\\times10^{-7}$."
   ]
  },
  {
   "cell_type": "code",
   "execution_count": null,
   "metadata": {},
   "outputs": [],
   "source": []
  },
  {
   "cell_type": "code",
   "execution_count": null,
   "metadata": {},
   "outputs": [],
   "source": []
  },
  {
   "cell_type": "code",
   "execution_count": null,
   "metadata": {},
   "outputs": [],
   "source": []
  },
  {
   "cell_type": "code",
   "execution_count": null,
   "metadata": {},
   "outputs": [],
   "source": []
  },
  {
   "cell_type": "markdown",
   "metadata": {
    "deletable": false,
    "editable": false,
    "run_control": {
     "frozen": true
    }
   },
   "source": [
    ">**Wrap it up**\n",
    ">\n",
    ">Execute the time stamp code cell below to show the time and date you finished and tested this script.\n",
    ">\n",
    ">Click on the **Save** button and then the **Close and halt** button when you are done. **Submit this notebook to *Canvas* before the due date/time to receive credit.**"
   ]
  },
  {
   "cell_type": "code",
   "execution_count": null,
   "metadata": {
    "deletable": false,
    "editable": false
   },
   "outputs": [],
   "source": [
    "from datetime import datetime\n",
    "from pytz import timezone\n",
    "print(datetime.now(timezone('US/Eastern')))"
   ]
  }
 ],
 "metadata": {
  "kernelspec": {
   "display_name": "Python 3",
   "language": "python",
   "name": "python3"
  },
  "language_info": {
   "codemirror_mode": {
    "name": "ipython",
    "version": 3
   },
   "file_extension": ".py",
   "mimetype": "text/x-python",
   "name": "python",
   "nbconvert_exporter": "python",
   "pygments_lexer": "ipython3",
   "version": "3.7.5"
  },
  "varInspector": {
   "cols": {
    "lenName": 16,
    "lenType": 16,
    "lenVar": 40
   },
   "kernels_config": {
    "python": {
     "delete_cmd_postfix": "",
     "delete_cmd_prefix": "del ",
     "library": "var_list.py",
     "varRefreshCmd": "print(var_dic_list())"
    },
    "r": {
     "delete_cmd_postfix": ") ",
     "delete_cmd_prefix": "rm(",
     "library": "var_list.r",
     "varRefreshCmd": "cat(var_dic_list()) "
    }
   },
   "types_to_exclude": [
    "module",
    "function",
    "builtin_function_or_method",
    "instance",
    "_Feature"
   ],
   "window_display": false
  }
 },
 "nbformat": 4,
 "nbformat_minor": 1
}
