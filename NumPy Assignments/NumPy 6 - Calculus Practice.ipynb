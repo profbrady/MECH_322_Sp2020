{
 "cells": [
  {
   "cell_type": "markdown",
   "metadata": {
    "deletable": false,
    "editable": false,
    "run_control": {
     "frozen": true
    }
   },
   "source": [
    "# NumPy 6 - Calculus Practice\n",
    "___"
   ]
  },
  {
   "cell_type": "code",
   "execution_count": null,
   "metadata": {},
   "outputs": [],
   "source": [
    "name = \"Your name here\"\n",
    "print(\"Name:\", name.upper())"
   ]
  },
  {
   "cell_type": "markdown",
   "metadata": {
    "deletable": false,
    "editable": false,
    "run_control": {
     "frozen": true
    }
   },
   "source": [
    "**Execute the following code cell to import the necessary modules for this notebook**"
   ]
  },
  {
   "cell_type": "code",
   "execution_count": null,
   "metadata": {},
   "outputs": [],
   "source": [
    "import numpy as np\n",
    "from scipy import integrate, optimize\n",
    "from numpy.polynomial import polynomial as P\n",
    "import matplotlib.pyplot as plt\n",
    "from scipy import stats\n",
    "from scipy.misc import derivative"
   ]
  },
  {
   "cell_type": "markdown",
   "metadata": {
    "deletable": false,
    "editable": false,
    "run_control": {
     "frozen": true
    }
   },
   "source": [
    "**Exercise 1**\n",
    "    \n",
    "A box of mass $m=25\\text{ kg}$ resting on a horizontal surface is being pulled by a rope that is at an angle $\\theta$ from the horizontal. The force required to move the box is given by:\n",
    "\n",
    "$\\qquad\\displaystyle F = \\frac{\\mu\\, m\\, g}{\\cos{\\theta}+\\mu\\cos{\\theta}}$\n",
    "\n",
    "Where $\\mu=0.55$ is the coefficient of friction and $g=9.81\\text{ m/s}^2$. Determine the angle $\\theta$ where the pulling force is $150\\text{ N}$ using the following procedure.\n",
    "    \n",
    "1. Make an anonymous function for $F$ in terms of the angle $\\theta$ and assign values to `mu`, `m`, and `g`\n",
    "2. Make an array of angles from $1$ to $80$ degrees and use the function to create a list of associated forces.\n",
    "3. Plot $F$ on the $y$-axis vs $\\theta$ on the $x$-axis (include axes labels with units).\n",
    "4. Create a second anonymous function $F1(x) = F(x) - 150$ \n",
    "5. Use the `optimize.fsolve()` function to find the angle at the zero crossing of `F1`.\n",
    "6. Plug this angle back into the original function `F` to verify that $F=150\\text{ N}$."
   ]
  },
  {
   "cell_type": "code",
   "execution_count": null,
   "metadata": {},
   "outputs": [],
   "source": [
    "# step 1: create a lambda function for F in terms of theta. assign values to mu, m , and g"
   ]
  },
  {
   "cell_type": "code",
   "execution_count": null,
   "metadata": {},
   "outputs": [],
   "source": [
    "# step 2: array of theta values from 1 to 80 degrees. use F(theta) to create force array"
   ]
  },
  {
   "cell_type": "code",
   "execution_count": null,
   "metadata": {},
   "outputs": [],
   "source": [
    "# step 3: plot theta, force\n",
    "fig, ax = plt.subplots()\n",
    "ax.plot(theta, force)\n",
    "ax.set_xlabel('Angle (degrees)')\n",
    "ax.set_ylabel('Force (N)')\n",
    "plt.show()"
   ]
  },
  {
   "cell_type": "code",
   "execution_count": null,
   "metadata": {},
   "outputs": [],
   "source": [
    "# step 4: create lambda function F1 as F(theta) - 150"
   ]
  },
  {
   "cell_type": "code",
   "execution_count": null,
   "metadata": {},
   "outputs": [],
   "source": [
    "# step 5: use optimize.fsolve() to find angle of zero crossing for F1"
   ]
  },
  {
   "cell_type": "code",
   "execution_count": null,
   "metadata": {},
   "outputs": [],
   "source": [
    "# step 6: plug result from step 5 into F to verify it is 150"
   ]
  },
  {
   "cell_type": "markdown",
   "metadata": {
    "deletable": false,
    "editable": false,
    "run_control": {
     "frozen": true
    }
   },
   "source": [
    "**Exercise 2**\n",
    "    \n",
    "Determine the local minimums and maximums of the function $\\displaystyle f(x) = \\frac{3(x-0.25)}{1 + 3.5(0.8x - 0.3)^2}$ over the $x$ range of $-6$ to $6$.\n",
    "\n",
    "1. Create anonymous functions of $f$ and $f1$ where $f1$ equals $-f(x)$.\n",
    "2. Plot the original function over the range of $-6$ to $6$.\n",
    "3. Use the plot to estimate the locations of the minimum and maximum. Then use the `optimize.fminbound()` function with the two anonymous functions to find the $x$ values of the minimum and maximum.\n",
    "4. Plug these values back into the original anonymous function to find the $y$ values of the local minimum and maximum."
   ]
  },
  {
   "cell_type": "code",
   "execution_count": null,
   "metadata": {},
   "outputs": [],
   "source": [
    "# create 'f' as lambda function"
   ]
  },
  {
   "cell_type": "code",
   "execution_count": null,
   "metadata": {},
   "outputs": [],
   "source": [
    "# create 'f1' as lambda function"
   ]
  },
  {
   "cell_type": "code",
   "execution_count": null,
   "metadata": {},
   "outputs": [],
   "source": [
    "# plot 'x, f(x)' over the range -6 to 6\n",
    "x = np.linspace(-6, 6, 100) # this was fixed after making intro video\n",
    "fig, ax = plt.subplots()\n",
    "ax.plot(x, f(x))\n",
    "plt.show()"
   ]
  },
  {
   "cell_type": "code",
   "execution_count": null,
   "metadata": {},
   "outputs": [],
   "source": [
    "# optimize.fminbound() with 'f' and 'f1' to find x-locations of min and max"
   ]
  },
  {
   "cell_type": "code",
   "execution_count": null,
   "metadata": {},
   "outputs": [],
   "source": [
    "# find y-values of min and max using 'f' and the above x-locations"
   ]
  },
  {
   "cell_type": "markdown",
   "metadata": {
    "deletable": false,
    "editable": false,
    "run_control": {
     "frozen": true
    }
   },
   "source": [
    "**Exercise 3**\n",
    "    \n",
    "Calculate the following definite integrals using `integrate.quad()`:\n",
    "\n",
    "1. $\\displaystyle \\int_2^{10}{\\frac{0.5x^3}{1+2\\sqrt{x}}}dx\\\\[1cm]$\n",
    "\n",
    "2. $\\displaystyle \\int_0^{4\\pi}{\\cos(x)e^{\\sqrt{x}}}dx$\n"
   ]
  },
  {
   "cell_type": "code",
   "execution_count": null,
   "metadata": {},
   "outputs": [],
   "source": []
  },
  {
   "cell_type": "code",
   "execution_count": null,
   "metadata": {},
   "outputs": [],
   "source": []
  },
  {
   "cell_type": "markdown",
   "metadata": {
    "deletable": false,
    "editable": false,
    "run_control": {
     "frozen": true
    }
   },
   "source": [
    "**Exercise 4**\n",
    "\n",
    "A cross section of a river bed has the following measurements of its depth (in feet) at $40\\text{ ft}$ intervals, starting at the left edge:\n",
    "\n",
    "$\\displaystyle [0, 40, 96, 140, 147, 121, 117, 139, 140, 62, 18, 0]$\n",
    "\n",
    "Use `np.trapz()` to estimate the cross-sectional area of the river. Plot the cross section of the river (make the surface of the \"water\" zero and the depths below the surface)."
   ]
  },
  {
   "cell_type": "code",
   "execution_count": null,
   "metadata": {},
   "outputs": [],
   "source": [
    "depth = \n",
    "x =       # use arange and the length of the depth array"
   ]
  },
  {
   "cell_type": "code",
   "execution_count": null,
   "metadata": {},
   "outputs": [],
   "source": [
    "area =    # use np.trapz(), be careful of the order of the arguments\n",
    "print(area)"
   ]
  },
  {
   "cell_type": "code",
   "execution_count": null,
   "metadata": {},
   "outputs": [],
   "source": [
    "fig, ax = plt.subplots(figsize=(6,3),dpi=100)\n",
    "ax.fill_between(x,-depth)\n",
    "ax.axis('equal')\n",
    "plt.show()"
   ]
  },
  {
   "cell_type": "markdown",
   "metadata": {
    "deletable": false,
    "editable": false,
    "run_control": {
     "frozen": true
    }
   },
   "source": [
    ">**Wrap it up**\n",
    ">\n",
    ">Execute the time stamp code cell below to show the time and date you finished and tested this script.\n",
    ">\n",
    ">Click on the **Save** button and then the **Close and halt** button when you are done. **Submit this notebook to *Canvas* before the due date/time to receive credit.**"
   ]
  },
  {
   "cell_type": "code",
   "execution_count": null,
   "metadata": {
    "deletable": false,
    "editable": false
   },
   "outputs": [],
   "source": [
    "from datetime import datetime\n",
    "from pytz import timezone\n",
    "print(datetime.now(timezone('US/Eastern')))"
   ]
  }
 ],
 "metadata": {
  "kernelspec": {
   "display_name": "Python 3",
   "language": "python",
   "name": "python3"
  },
  "language_info": {
   "codemirror_mode": {
    "name": "ipython",
    "version": 3
   },
   "file_extension": ".py",
   "mimetype": "text/x-python",
   "name": "python",
   "nbconvert_exporter": "python",
   "pygments_lexer": "ipython3",
   "version": "3.7.5"
  },
  "varInspector": {
   "cols": {
    "lenName": 16,
    "lenType": 16,
    "lenVar": 40
   },
   "kernels_config": {
    "python": {
     "delete_cmd_postfix": "",
     "delete_cmd_prefix": "del ",
     "library": "var_list.py",
     "varRefreshCmd": "print(var_dic_list())"
    },
    "r": {
     "delete_cmd_postfix": ") ",
     "delete_cmd_prefix": "rm(",
     "library": "var_list.r",
     "varRefreshCmd": "cat(var_dic_list()) "
    }
   },
   "types_to_exclude": [
    "module",
    "function",
    "builtin_function_or_method",
    "instance",
    "_Feature"
   ],
   "window_display": false
  }
 },
 "nbformat": 4,
 "nbformat_minor": 1
}
